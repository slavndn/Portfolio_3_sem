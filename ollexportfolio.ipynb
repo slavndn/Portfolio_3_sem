{
 "cells": [
  {
   "cell_type": "markdown",
   "metadata": {},
   "source": [
    "Славный Даниил Михайлович ИВТ-1.2"
   ]
  },
  {
   "cell_type": "markdown",
   "metadata": {},
   "source": [
    "\n",
    "Лабораторная работа 1. <br> \n",
    "[Калькулятор](https://replit.com/@DaniilSlavnyi/Calculate?v=1)<br>\n",
    "[Угадай число](https://replit.com/@DaniilSlavnyi/Guess-Number?v=1)"
   ]
  },
  {
   "cell_type": "markdown",
   "metadata": {},
   "source": [
    "Лабораторная работа 2. <br>\n",
    "[Множества](https://github.com/slavndn/lr2-mnoj/blob/main/Славный%20Д.М.%20ИВТ-1.2%20(1).pdf)"
   ]
  },
  {
   "cell_type": "markdown",
   "metadata": {},
   "source": [
    "Лабораторная работа 3.<br>\n",
    "[Калькулятор 2.0](https://replit.com/@DaniilSlavnyi/Calculator-20)<br>\n",
    "[Калькулятор 3.0](https://replit.com/@DaniilSlavnyi/Calculator-30)"
   ]
  },
  {
   "cell_type": "markdown",
   "metadata": {},
   "source": [
    "Лабораторная работа 4.<br>\n",
    "[Набор 1 (1.1)](https://replit.com/@DaniilSlavnyi/PROG3LABA4SET111)<br>\n",
    "[Набор 1 (1.2)](https://replit.com/@DaniilSlavnyi/PROG3LABA4SET112)<br>\n",
    "[Набор 1 (1.3)](https://replit.com/@DaniilSlavnyi/PROG3LABA4SET113)<br>\n",
    "[Набор 1 (1.4(1))](https://replit.com/@DaniilSlavnyi/PROG3LABA4SET1141)<br>\n",
    "[Набор 1 (1.4(2))](https://replit.com/@DaniilSlavnyi/PROG3LABA4SET1142)<br>\n",
    "\n",
    "[Набор 2 (2.1 ; 2.2 ; 2.3)](https://github.com/slavndn/Course2_LR4_SET2/blob/main/Славный%20Д.М.%20ИВТ-1.2%20ЛР4%20(SET2).pdf)"
   ]
  },
  {
   "cell_type": "markdown",
   "metadata": {},
   "source": [
    "Лабораторная работа 5. <br>\n",
    "[1.1 ; 1.2 ; 1.3 ; 1.4 ; 2.1](https://github.com/slavndn/Programming-Python-/blob/main/Slavniy_Daniil_1.2_lr5.ipynb)"
   ]
  }
 ],
 "metadata": {
  "kernelspec": {
   "display_name": "Python 3",
   "language": "python",
   "name": "python3"
  },
  "language_info": {
   "name": "python",
   "version": "3.8.2"
  }
 },
 "nbformat": 4,
 "nbformat_minor": 2
}
